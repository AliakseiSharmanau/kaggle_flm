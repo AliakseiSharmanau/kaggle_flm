{
 "cells": [
  {
   "cell_type": "code",
   "execution_count": 1,
   "id": "8a144760",
   "metadata": {
    "_cell_guid": "b1076dfc-b9ad-4769-8c92-a6c4dae69d19",
    "_uuid": "8f2839f25d086af736a60e9eeb907d3b93b6e0e5",
    "execution": {
     "iopub.execute_input": "2022-06-23T08:45:09.916702Z",
     "iopub.status.busy": "2022-06-23T08:45:09.915878Z",
     "iopub.status.idle": "2022-06-23T08:45:09.937878Z",
     "shell.execute_reply": "2022-06-23T08:45:09.936261Z"
    },
    "jupyter": {
     "source_hidden": true
    },
    "papermill": {
     "duration": 0.046855,
     "end_time": "2022-06-23T08:45:09.941565",
     "exception": false,
     "start_time": "2022-06-23T08:45:09.894710",
     "status": "completed"
    },
    "tags": []
   },
   "outputs": [
    {
     "name": "stdout",
     "output_type": "stream",
     "text": [
      "/kaggle/input/foursquare-location-matching/sample_submission.csv\n",
      "/kaggle/input/foursquare-location-matching/pairs.csv\n",
      "/kaggle/input/foursquare-location-matching/train.csv\n",
      "/kaggle/input/foursquare-location-matching/test.csv\n",
      "/kaggle/input/fstraindataset/train_data5.csv\n",
      "/kaggle/input/fstraindataset/train_data7.csv\n",
      "/kaggle/input/fstraindataset/train_data3.csv\n",
      "/kaggle/input/fstraindataset/train_data2.csv\n",
      "/kaggle/input/fstraindataset/train_data1.csv\n",
      "/kaggle/input/fstraindataset/train_data4.csv\n",
      "/kaggle/input/fstraindataset/train_data6.csv\n"
     ]
    }
   ],
   "source": [
    "# This Python 3 environment comes with many helpful analytics libraries installed\n",
    "# It is defined by the kaggle/python Docker image: https://github.com/kaggle/docker-python\n",
    "# For example, here's several helpful packages to load\n",
    "\n",
    "import numpy as np # linear algebra\n",
    "import pandas as pd # data processing, CSV file I/O (e.g. pd.read_csv)\n",
    "\n",
    "# Input data files are available in the read-only \"../input/\" directory\n",
    "# For example, running this (by clicking run or pressing Shift+Enter) will list all files under the input directory\n",
    "\n",
    "import os\n",
    "for dirname, _, filenames in os.walk('/kaggle/input'):\n",
    "    for filename in filenames:\n",
    "        print(os.path.join(dirname, filename))\n",
    "\n",
    "# You can write up to 20GB to the current directory (/kaggle/working/) that gets preserved as output when you create a version using \"Save & Run All\" \n",
    "# You can also write temporary files to /kaggle/temp/, but they won't be saved outside of the current session"
   ]
  },
  {
   "cell_type": "code",
   "execution_count": 2,
   "id": "f8d413c8",
   "metadata": {
    "execution": {
     "iopub.execute_input": "2022-06-23T08:45:09.982372Z",
     "iopub.status.busy": "2022-06-23T08:45:09.981845Z",
     "iopub.status.idle": "2022-06-23T08:45:11.332086Z",
     "shell.execute_reply": "2022-06-23T08:45:11.331108Z"
    },
    "papermill": {
     "duration": 1.373048,
     "end_time": "2022-06-23T08:45:11.334694",
     "exception": false,
     "start_time": "2022-06-23T08:45:09.961646",
     "status": "completed"
    },
    "tags": []
   },
   "outputs": [],
   "source": [
    "import numpy as np\n",
    "import pandas as pd\n",
    "from tqdm import tqdm\n",
    "from sklearn.neighbors import NearestNeighbors\n",
    "from sklearn.neighbors import KNeighborsRegressor\n",
    "from sklearn.feature_extraction.text import TfidfVectorizer\n",
    "import gc\n",
    "\n",
    "import Levenshtein\n",
    "import difflib\n",
    "\n",
    "import sys\n",
    "from pathlib import Path\n",
    "import os\n",
    "import warnings\n",
    "warnings.filterwarnings('ignore')"
   ]
  },
  {
   "cell_type": "code",
   "execution_count": 3,
   "id": "e208a5f0",
   "metadata": {
    "execution": {
     "iopub.execute_input": "2022-06-23T08:45:11.373751Z",
     "iopub.status.busy": "2022-06-23T08:45:11.373474Z",
     "iopub.status.idle": "2022-06-23T08:45:11.379921Z",
     "shell.execute_reply": "2022-06-23T08:45:11.379044Z"
    },
    "papermill": {
     "duration": 0.027465,
     "end_time": "2022-06-23T08:45:11.382042",
     "exception": false,
     "start_time": "2022-06-23T08:45:11.354577",
     "status": "completed"
    },
    "tags": []
   },
   "outputs": [],
   "source": [
    "target = 'point_of_interest'\n",
    "num_split = 7\n",
    "feat_columns = ['name', 'address', 'city', 'state', 'zip',\n",
    "               'url', 'phone', 'categories', 'country']\n",
    "vec_columns = ['name', 'categories', 'country',\n",
    "              'address', 'state', 'url']\n",
    "ROOT = Path.cwd().parent\n",
    "INPUT = ROOT/'input'\n",
    "DATA = INPUT/'foursquare-location-matching'\n",
    "TDATA = INPUT/'fstraindataset'\n",
    "WORK = ROOT/'working'"
   ]
  },
  {
   "cell_type": "code",
   "execution_count": 4,
   "id": "84dccc59",
   "metadata": {
    "execution": {
     "iopub.execute_input": "2022-06-23T08:45:11.420236Z",
     "iopub.status.busy": "2022-06-23T08:45:11.419689Z",
     "iopub.status.idle": "2022-06-23T08:45:11.432786Z",
     "shell.execute_reply": "2022-06-23T08:45:11.432150Z"
    },
    "jupyter": {
     "source_hidden": true
    },
    "papermill": {
     "duration": 0.035066,
     "end_time": "2022-06-23T08:45:11.435002",
     "exception": false,
     "start_time": "2022-06-23T08:45:11.399936",
     "status": "completed"
    },
    "tags": []
   },
   "outputs": [],
   "source": [
    "def recall_knn(df, Neighbors = 10):\n",
    "    #Start knn grouped by country\n",
    "    print('group')\n",
    "    train_df_country = []\n",
    "    for country, country_df in tqdm(df.groupby('country')):\n",
    "        country_df = country_df.reset_index(drop=True)\n",
    "        neighbors = min(len(country_df), Neighbors)\n",
    "        knn = KNeighborsRegressor(n_neighbors=neighbors,\n",
    "                                  metric='haversine',\n",
    "                                  n_jobs=-1)\n",
    "        knn.fit(country_df[['latitude', 'longitude']], country_df.index)\n",
    "        \n",
    "        dists, nears = knn.kneighbors(country_df[['latitude', 'longitude']], return_distance=True)\n",
    "        for k in range(neighbors):\n",
    "            cur_df = country_df[['id']]\n",
    "            cur_df['match_id'] = country_df['id'].values[nears[:,k]]\n",
    "            cur_df['kdist_country'] = dists[:,k]\n",
    "            cur_df['kneighbors_country'] = k\n",
    "            train_df_country.append(cur_df)\n",
    "    train_df_country = pd.concat(train_df_country)\n",
    "    \n",
    "    #start knn\n",
    "    print('knn')\n",
    "    train_df = []\n",
    "    knn = NearestNeighbors(n_neighbors=Neighbors)\n",
    "    knn.fit(df[['latitude', 'longitude']], df.index)\n",
    "    dists, nears = knn.kneighbors(df[['latitude', 'longitude']])\n",
    "    \n",
    "    for k in range(Neighbors):\n",
    "        cur_df = df[['id']]\n",
    "        cur_df['match_id'] = df['id'].values[nears[:,k]]\n",
    "        cur_df['kdist'] = dists[:, k]\n",
    "        cur_df['kneighbors'] = k\n",
    "        train_df.append(cur_df)\n",
    "    train_df = pd.concat(train_df)\n",
    "    train_df = train_df.merge(train_df_country,\n",
    "                              on=['id', 'match_id'],\n",
    "                              how='outer')\n",
    "    del train_df_country\n",
    "    return train_df"
   ]
  },
  {
   "cell_type": "code",
   "execution_count": 5,
   "id": "5a33d98a",
   "metadata": {
    "execution": {
     "iopub.execute_input": "2022-06-23T08:45:11.474462Z",
     "iopub.status.busy": "2022-06-23T08:45:11.473915Z",
     "iopub.status.idle": "2022-06-23T08:45:11.489016Z",
     "shell.execute_reply": "2022-06-23T08:45:11.488332Z"
    },
    "jupyter": {
     "source_hidden": true
    },
    "papermill": {
     "duration": 0.03851,
     "end_time": "2022-06-23T08:45:11.491182",
     "exception": false,
     "start_time": "2022-06-23T08:45:11.452672",
     "status": "completed"
    },
    "tags": []
   },
   "outputs": [],
   "source": [
    "def add_features(df):\n",
    "    for col in tqdm(feat_columns):\n",
    "        if col in vec_columns:\n",
    "            tv_fit = tfidf_d[col]\n",
    "            indexs = [id2index_d[i] for i in df['id']]\n",
    "            match_indexs = [id2index_d[i] for i in df['match_id']]\n",
    "            df[f'{col}_sim'] = np.array(tv_fit[indexs].multiply(tv_fit[match_indexs]).sum(axis=1)).ravel()\n",
    "        col_values = data.loc[df['id']][col].values.astype(str)\n",
    "        match_values = data.loc[df['match_id']][col].values.astype(str)\n",
    "        geshs = []\n",
    "        levens = []\n",
    "        jaros = []\n",
    "        \n",
    "        for s, match_s in zip(col_values, match_values):\n",
    "            if s != 'nan' and match_s != 'nan':\n",
    "                geshs.append(difflib.SequenceMatcher(None, s, match_s).ratio())\n",
    "                levens.append(Levenshtein.distance(s, match_s))\n",
    "                jaros.append(Levenshtein.jaro_winkler(s, match_s))\n",
    "                \n",
    "            else:\n",
    "                geshs.append(np.nan)\n",
    "                levens.append(np.nan)\n",
    "                jaros.append(np.nan)\n",
    "                \n",
    "        df[f'{col}_gesh'] = geshs\n",
    "        df[f'{col}_leven'] = levens\n",
    "        df[f'{col}_jaro'] = jaros\n",
    "        \n",
    "        if col not in ['phone', 'zip']:\n",
    "            df[f'{col}_len'] = list(map(len, col_values))\n",
    "            df[f'match_{col}_len'] = list(map(len, match_values))\n",
    "            df[f'{col}_len_diff'] = np.abs(df[f'{col}_len'] - df[f'match_{col}_len'])\n",
    "            df[f'{col}_nleven'] = df[f'{col}_leven'] / df[[f'{col}_len', f'match_{col}_len']].max(axis=1)\n",
    "            \n",
    "            df = df.drop(f'{col}_len', axis=1)\n",
    "            df = df.drop(f'match_{col}_len', axis=1)\n",
    "            gc.collect()\n",
    "    return df"
   ]
  },
  {
   "cell_type": "code",
   "execution_count": 6,
   "id": "b6f2d846",
   "metadata": {
    "execution": {
     "iopub.execute_input": "2022-06-23T08:45:11.528977Z",
     "iopub.status.busy": "2022-06-23T08:45:11.528396Z",
     "iopub.status.idle": "2022-06-23T08:45:11.536057Z",
     "shell.execute_reply": "2022-06-23T08:45:11.534695Z"
    },
    "jupyter": {
     "source_hidden": true
    },
    "papermill": {
     "duration": 0.029785,
     "end_time": "2022-06-23T08:45:11.538637",
     "exception": false,
     "start_time": "2022-06-23T08:45:11.508852",
     "status": "completed"
    },
    "tags": []
   },
   "outputs": [],
   "source": [
    "def post_process(df):\n",
    "    id2match = dict(zip(df['id'].values, df['matches'].str.split()))\n",
    "    for base, match in df[['id', 'matches']].values:\n",
    "        match =match.split()\n",
    "        if len(match) == 1:\n",
    "            continue\n",
    "        for m in match:\n",
    "            if base not in id2match[m]:\n",
    "                id2match[m].append(base)\n",
    "    df['matches'] = df['id'].map(id2match).map(' '.join)\n",
    "    return df"
   ]
  },
  {
   "cell_type": "code",
   "execution_count": 10,
   "id": "7d1eb48f",
   "metadata": {
    "execution": {
     "iopub.execute_input": "2022-06-23T08:45:14.121638Z",
     "iopub.status.busy": "2022-06-23T08:45:14.121175Z",
     "iopub.status.idle": "2022-06-23T08:45:15.275710Z",
     "shell.execute_reply": "2022-06-23T08:45:15.274400Z"
    },
    "papermill": {
     "duration": 1.176812,
     "end_time": "2022-06-23T08:45:15.278637",
     "exception": false,
     "start_time": "2022-06-23T08:45:14.101825",
     "status": "completed"
    },
    "tags": []
   },
   "outputs": [
    {
     "data": {
      "text/html": [
       "<style type='text/css'>\n",
       ".datatable table.frame { margin-bottom: 0; }\n",
       ".datatable table.frame thead { border-bottom: none; }\n",
       ".datatable table.frame tr.coltypes td {  color: #FFFFFF;  line-height: 6px;  padding: 0 0.5em;}\n",
       ".datatable .bool    { background: #DDDD99; }\n",
       ".datatable .object  { background: #565656; }\n",
       ".datatable .int     { background: #5D9E5D; }\n",
       ".datatable .float   { background: #4040CC; }\n",
       ".datatable .str     { background: #CC4040; }\n",
       ".datatable .time    { background: #40CC40; }\n",
       ".datatable .row_index {  background: var(--jp-border-color3);  border-right: 1px solid var(--jp-border-color0);  color: var(--jp-ui-font-color3);  font-size: 9px;}\n",
       ".datatable .frame tbody td { text-align: left; }\n",
       ".datatable .frame tr.coltypes .row_index {  background: var(--jp-border-color0);}\n",
       ".datatable th:nth-child(2) { padding-left: 12px; }\n",
       ".datatable .hellipsis {  color: var(--jp-cell-editor-border-color);}\n",
       ".datatable .vellipsis {  background: var(--jp-layout-color0);  color: var(--jp-cell-editor-border-color);}\n",
       ".datatable .na {  color: var(--jp-cell-editor-border-color);  font-size: 80%;}\n",
       ".datatable .sp {  opacity: 0.25;}\n",
       ".datatable .footer { font-size: 9px; }\n",
       ".datatable .frame_dimensions {  background: var(--jp-border-color3);  border-top: 1px solid var(--jp-border-color0);  color: var(--jp-ui-font-color3);  display: inline-block;  opacity: 0.6;  padding: 1px 10px 1px 5px;}\n",
       "</style>\n"
      ],
      "text/plain": [
       "<IPython.core.display.HTML object>"
      ]
     },
     "metadata": {},
     "output_type": "display_data"
    }
   ],
   "source": [
    "import lightgbm as lgbm"
   ]
  },
  {
   "cell_type": "code",
   "execution_count": 11,
   "id": "ab9b9ab6",
   "metadata": {
    "execution": {
     "iopub.execute_input": "2022-06-23T08:45:15.319129Z",
     "iopub.status.busy": "2022-06-23T08:45:15.318859Z",
     "iopub.status.idle": "2022-06-23T09:00:15.891341Z",
     "shell.execute_reply": "2022-06-23T09:00:15.889959Z"
    },
    "papermill": {
     "duration": 900.619393,
     "end_time": "2022-06-23T09:00:15.917796",
     "exception": false,
     "start_time": "2022-06-23T08:45:15.298403",
     "status": "completed"
    },
    "tags": []
   },
   "outputs": [
    {
     "name": "stderr",
     "output_type": "stream",
     "text": [
      "100%|██████████| 7/7 [15:00<00:00, 128.65s/it]\n"
     ]
    }
   ],
   "source": [
    "gb_clf = []\n",
    "for i in tqdm(range(1, num_split+1)):\n",
    "    train = pd.read_csv(TDATA/f'train_data{i}.csv', index_col='id')\n",
    "    y_train = train['label']\n",
    "    train.drop(labels=['match_id', 'label'], axis=1, inplace=True)\n",
    "    train = train.fillna(0)\n",
    "    gb_clf_ = lgbm.LGBMClassifier(\n",
    "                                  num_leaves=15, #35\n",
    "                                  max_depth=5, #7\n",
    "                                  learning_rate=0.12, #0.2,\n",
    "                                  n_estimators=1000, #10000,\n",
    "                                  reg_alpha=0.1,\n",
    "                                  reg_lambda=0.1,\n",
    "                                  random_state=42,\n",
    "                                  colsample_bytree=0.9,\n",
    "                                  n_jobs=-1)\n",
    "    gb_clf_.fit(train, y_train)\n",
    "    gb_clf.append(gb_clf_)\n",
    "    del train, y_train"
   ]
  },
  {
   "cell_type": "code",
   "execution_count": 12,
   "id": "b8bab956",
   "metadata": {
    "execution": {
     "iopub.execute_input": "2022-06-23T09:00:15.965941Z",
     "iopub.status.busy": "2022-06-23T09:00:15.965636Z",
     "iopub.status.idle": "2022-06-23T09:00:15.972002Z",
     "shell.execute_reply": "2022-06-23T09:00:15.970996Z"
    },
    "papermill": {
     "duration": 0.033315,
     "end_time": "2022-06-23T09:00:15.974355",
     "exception": false,
     "start_time": "2022-06-23T09:00:15.941040",
     "status": "completed"
    },
    "tags": []
   },
   "outputs": [],
   "source": [
    "def pred_clf(models, df):\n",
    "    pred = np.array([model.predict(df) for model in models])\n",
    "    pred = np.mean(pred, axis=0)\n",
    "    return pred"
   ]
  },
  {
   "cell_type": "code",
   "execution_count": 13,
   "id": "5158d070",
   "metadata": {
    "_kg_hide-input": true,
    "execution": {
     "iopub.execute_input": "2022-06-23T09:00:16.022205Z",
     "iopub.status.busy": "2022-06-23T09:00:16.021713Z",
     "iopub.status.idle": "2022-06-23T09:00:16.512312Z",
     "shell.execute_reply": "2022-06-23T09:00:16.511033Z"
    },
    "papermill": {
     "duration": 0.518404,
     "end_time": "2022-06-23T09:00:16.514860",
     "exception": false,
     "start_time": "2022-06-23T09:00:15.996456",
     "status": "completed"
    },
    "tags": []
   },
   "outputs": [
    {
     "name": "stdout",
     "output_type": "stream",
     "text": [
      "group\n"
     ]
    },
    {
     "name": "stderr",
     "output_type": "stream",
     "text": [
      "100%|██████████| 32/32 [00:00<00:00, 97.39it/s] "
     ]
    },
    {
     "name": "stdout",
     "output_type": "stream",
     "text": [
      "knn\n"
     ]
    },
    {
     "name": "stderr",
     "output_type": "stream",
     "text": [
      "\n"
     ]
    }
   ],
   "source": [
    "data = pd.read_csv(DATA/'test.csv')\n",
    "if len(data) < 20:\n",
    "    data = pd.read_csv(DATA/'train.csv', nrows=100)\n",
    "    data = data.drop(target, axis=1)\n",
    "id2index_d = dict(zip(data['id'].values, data.index))\n",
    "tfidf_d = {}\n",
    "for col in vec_columns:\n",
    "    tfidf = TfidfVectorizer()\n",
    "    tv_fit = tfidf.fit_transform(data[col].fillna('nan'))\n",
    "    tfidf_d[col] = tv_fit\n",
    "out_df = pd.DataFrame()\n",
    "out_df['id'] = data['id'].unique().tolist()\n",
    "out_df['match_id'] = out_df['id']\n",
    "test_data = recall_knn(data, n_neighbors)\n",
    "data = data.set_index('id')"
   ]
  },
  {
   "cell_type": "code",
   "execution_count": 14,
   "id": "e14701ec",
   "metadata": {
    "execution": {
     "iopub.execute_input": "2022-06-23T09:00:16.566751Z",
     "iopub.status.busy": "2022-06-23T09:00:16.566431Z",
     "iopub.status.idle": "2022-06-23T09:00:25.950787Z",
     "shell.execute_reply": "2022-06-23T09:00:25.949576Z"
    },
    "papermill": {
     "duration": 9.413389,
     "end_time": "2022-06-23T09:00:25.953191",
     "exception": false,
     "start_time": "2022-06-23T09:00:16.539802",
     "status": "completed"
    },
    "tags": []
   },
   "outputs": [
    {
     "name": "stdout",
     "output_type": "stream",
     "text": [
      "curent split 1\n"
     ]
    },
    {
     "name": "stderr",
     "output_type": "stream",
     "text": [
      "100%|██████████| 9/9 [00:01<00:00,  7.25it/s]\n"
     ]
    },
    {
     "name": "stdout",
     "output_type": "stream",
     "text": [
      "curent split 2\n"
     ]
    },
    {
     "name": "stderr",
     "output_type": "stream",
     "text": [
      "100%|██████████| 9/9 [00:01<00:00,  7.94it/s]\n"
     ]
    },
    {
     "name": "stdout",
     "output_type": "stream",
     "text": [
      "curent split 3\n"
     ]
    },
    {
     "name": "stderr",
     "output_type": "stream",
     "text": [
      "100%|██████████| 9/9 [00:01<00:00,  8.28it/s]\n"
     ]
    },
    {
     "name": "stdout",
     "output_type": "stream",
     "text": [
      "curent split 4\n"
     ]
    },
    {
     "name": "stderr",
     "output_type": "stream",
     "text": [
      "100%|██████████| 9/9 [00:01<00:00,  8.14it/s]\n"
     ]
    },
    {
     "name": "stdout",
     "output_type": "stream",
     "text": [
      "curent split 5\n"
     ]
    },
    {
     "name": "stderr",
     "output_type": "stream",
     "text": [
      "100%|██████████| 9/9 [00:01<00:00,  7.80it/s]\n"
     ]
    },
    {
     "name": "stdout",
     "output_type": "stream",
     "text": [
      "curent split 6\n"
     ]
    },
    {
     "name": "stderr",
     "output_type": "stream",
     "text": [
      "100%|██████████| 9/9 [00:01<00:00,  8.07it/s]\n"
     ]
    },
    {
     "name": "stdout",
     "output_type": "stream",
     "text": [
      "curent split 7\n"
     ]
    },
    {
     "name": "stderr",
     "output_type": "stream",
     "text": [
      "100%|██████████| 9/9 [00:01<00:00,  8.21it/s]\n"
     ]
    },
    {
     "name": "stdout",
     "output_type": "stream",
     "text": [
      "1171\n"
     ]
    }
   ],
   "source": [
    "count = 0\n",
    "start_row = 0\n",
    "pred_df = pd.DataFrame()\n",
    "unique_id = test_data['id'].unique().tolist()\n",
    "num_split_id = len(unique_id) // num_split\n",
    "for k in range(1, num_split+1):\n",
    "    print('curent split %s' %k)\n",
    "    end_row = start_row + num_split_id\n",
    "    if k < num_split:\n",
    "        cur_id = unique_id[start_row: end_row]\n",
    "        cur_data = test_data[test_data['id'].isin(cur_id)]\n",
    "    else:\n",
    "        cur_id = unique_id[start_row:]\n",
    "        cur_data = test_data[test_data['id'].isin(cur_id)]\n",
    "    cur_data = add_features(cur_data)\n",
    "    cur_data['kdist_diff'] = (cur_data['kdist'] - cur_data['kdist_country']) / cur_data['kdist_country']\n",
    "    cur_data['kneighbors_mean'] = cur_data[['kneighbors', 'kneighbors_country']].mean(axis=1)\n",
    "    cur_data = cur_data.fillna(0)\n",
    "    feature = cur_data.columns.tolist()[2:]\n",
    "    cur_data['pred'] = pred_clf(gb_clf, cur_data[feature])\n",
    "    cur_pred_df = cur_data[cur_data['pred'] > 0.55][['id', 'match_id']]\n",
    "    pred_df = pd.concat([pred_df, cur_pred_df])\n",
    "    start_row = end_row\n",
    "    count += len(cur_data)\n",
    "    del cur_data, cur_pred_df\n",
    "    gc.collect()\n",
    "print(count)"
   ]
  },
  {
   "cell_type": "code",
   "execution_count": 15,
   "id": "c71212c0",
   "metadata": {
    "execution": {
     "iopub.execute_input": "2022-06-23T09:00:26.062249Z",
     "iopub.status.busy": "2022-06-23T09:00:26.061799Z",
     "iopub.status.idle": "2022-06-23T09:00:26.088794Z",
     "shell.execute_reply": "2022-06-23T09:00:26.087931Z"
    },
    "papermill": {
     "duration": 0.084685,
     "end_time": "2022-06-23T09:00:26.091253",
     "exception": false,
     "start_time": "2022-06-23T09:00:26.006568",
     "status": "completed"
    },
    "tags": []
   },
   "outputs": [
    {
     "name": "stdout",
     "output_type": "stream",
     "text": [
      "                 id                              match_id           matches\n",
      "0  E_000001272c6c5d  [E_000001272c6c5d, E_000001272c6c5d]  E_000001272c6c5d\n",
      "1  E_000002eae2a589  [E_000002eae2a589, E_000002eae2a589]  E_000002eae2a589\n",
      "2  E_000007f24ebc95  [E_000007f24ebc95, E_000007f24ebc95]  E_000007f24ebc95\n",
      "3  E_000008a8ba4f48  [E_000008a8ba4f48, E_000008a8ba4f48]  E_000008a8ba4f48\n",
      "4  E_00001d92066153  [E_00001d92066153, E_00001d92066153]  E_00001d92066153\n"
     ]
    }
   ],
   "source": [
    "out_df = pd.concat([out_df, pred_df])\n",
    "out_df = out_df.groupby('id')['match_id'].apply(list).reset_index()\n",
    "out_df['matches'] = out_df['match_id'].apply(lambda x: ' '.join(set(x)))\n",
    "out_df = post_process(out_df)\n",
    "print(out_df.head())\n",
    "out_df[['id', 'matches']].to_csv('submission.csv', index=False)"
   ]
  }
 ],
 "metadata": {
  "kernelspec": {
   "display_name": "Python 3 (ipykernel)",
   "language": "python",
   "name": "python3"
  },
  "language_info": {
   "codemirror_mode": {
    "name": "ipython",
    "version": 3
   },
   "file_extension": ".py",
   "mimetype": "text/x-python",
   "name": "python",
   "nbconvert_exporter": "python",
   "pygments_lexer": "ipython3",
   "version": "3.9.7"
  },
  "papermill": {
   "default_parameters": {},
   "duration": 928.132592,
   "end_time": "2022-06-23T09:00:27.173523",
   "environment_variables": {},
   "exception": null,
   "input_path": "__notebook__.ipynb",
   "output_path": "__notebook__.ipynb",
   "parameters": {},
   "start_time": "2022-06-23T08:44:59.040931",
   "version": "2.3.4"
  }
 },
 "nbformat": 4,
 "nbformat_minor": 5
}
