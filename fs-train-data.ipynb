{
 "cells": [
  {
   "cell_type": "code",
   "execution_count": 1,
   "id": "72f375ed",
   "metadata": {
    "execution": {
     "iopub.execute_input": "2022-06-10T05:55:41.416716Z",
     "iopub.status.busy": "2022-06-10T05:55:41.416135Z",
     "iopub.status.idle": "2022-06-10T05:55:42.614358Z",
     "shell.execute_reply": "2022-06-10T05:55:42.613554Z"
    },
    "papermill": {
     "duration": 1.211121,
     "end_time": "2022-06-10T05:55:42.616458",
     "exception": false,
     "start_time": "2022-06-10T05:55:41.405337",
     "status": "completed"
    },
    "tags": []
   },
   "outputs": [],
   "source": [
    "import numpy as np\n",
    "import pandas as pd\n",
    "from tqdm import tqdm\n",
    "from sklearn.neighbors import NearestNeighbors\n",
    "from sklearn.neighbors import KNeighborsRegressor\n",
    "from sklearn.feature_extraction.text import TfidfVectorizer\n",
    "import gc\n",
    "import Levenshtein\n",
    "import difflib\n",
    "\n",
    "import sys\n",
    "from pathlib import Path\n",
    "import os\n",
    "import warnings\n",
    "warnings.filterwarnings('ignore')"
   ]
  },
  {
   "cell_type": "code",
   "execution_count": 2,
   "id": "563bde18",
   "metadata": {
    "execution": {
     "iopub.execute_input": "2022-06-10T05:55:42.633375Z",
     "iopub.status.busy": "2022-06-10T05:55:42.632638Z",
     "iopub.status.idle": "2022-06-10T05:55:42.638004Z",
     "shell.execute_reply": "2022-06-10T05:55:42.637460Z"
    },
    "papermill": {
     "duration": 0.015594,
     "end_time": "2022-06-10T05:55:42.639711",
     "exception": false,
     "start_time": "2022-06-10T05:55:42.624117",
     "status": "completed"
    },
    "tags": []
   },
   "outputs": [],
   "source": [
    "target = 'point_of_interest'\n",
    "num_split = 7\n",
    "feat_columns = ['name', 'address', 'city', 'state', 'zip',\n",
    "               'url', 'phone', 'categories', 'country']\n",
    "vec_columns = ['name', 'categories', 'country',\n",
    "              'address', 'state', 'url']\n",
    "ROOT = Path.cwd().parent\n",
    "INPUT = ROOT/'input'\n",
    "DATA = INPUT/'foursquare-location-matching'\n",
    "TDATA = INPUT/'fsfulltrain'\n",
    "WORK = ROOT/'working'"
   ]
  },
  {
   "cell_type": "code",
   "execution_count": 3,
   "id": "8c40c671",
   "metadata": {
    "execution": {
     "iopub.execute_input": "2022-06-10T05:55:42.656758Z",
     "iopub.status.busy": "2022-06-10T05:55:42.656154Z",
     "iopub.status.idle": "2022-06-10T05:55:42.666143Z",
     "shell.execute_reply": "2022-06-10T05:55:42.665563Z"
    },
    "papermill": {
     "duration": 0.020137,
     "end_time": "2022-06-10T05:55:42.667850",
     "exception": false,
     "start_time": "2022-06-10T05:55:42.647713",
     "status": "completed"
    },
    "tags": []
   },
   "outputs": [],
   "source": [
    "def recall_knn(df, Neighbors = 10):\n",
    "    #Start knn grouped by country\n",
    "    print('group')\n",
    "    train_df_country = []\n",
    "    for country, country_df in tqdm(df.groupby('country')):\n",
    "        country_df = country_df.reset_index(drop=True)\n",
    "        neighbors = min(len(country_df), Neighbors)\n",
    "        knn = KNeighborsRegressor(n_neighbors=neighbors,\n",
    "                                  metric='haversine',\n",
    "                                  n_jobs=-1)\n",
    "        knn.fit(country_df[['latitude', 'longitude']], country_df.index)\n",
    "        \n",
    "        dists, nears = knn.kneighbors(country_df[['latitude', 'longitude']], return_distance=True)\n",
    "        for k in range(neighbors):\n",
    "            cur_df = country_df[['id']]\n",
    "            cur_df['match_id'] = country_df['id'].values[nears[:,k]]\n",
    "            cur_df['kdist_country'] = dists[:,k]\n",
    "            cur_df['kneighbors_country'] = k\n",
    "            train_df_country.append(cur_df)\n",
    "    train_df_country = pd.concat(train_df_country)\n",
    "    \n",
    "    #start knn\n",
    "    print('knn')\n",
    "    train_df = []\n",
    "    knn = NearestNeighbors(n_neighbors=Neighbors)\n",
    "    knn.fit(df[['latitude', 'longitude']], df.index)\n",
    "    dists, nears = knn.kneighbors(df[['latitude', 'longitude']])\n",
    "    \n",
    "    for k in range(Neighbors):\n",
    "        cur_df = df[['id']]\n",
    "        cur_df['match_id'] = df['id'].values[nears[:,k]]\n",
    "        cur_df['kdist'] = dists[:, k]\n",
    "        cur_df['kneighbors'] = k\n",
    "        train_df.append(cur_df)\n",
    "    train_df = pd.concat(train_df)\n",
    "    train_df = train_df.merge(train_df_country,\n",
    "                              on=['id', 'match_id'],\n",
    "                              how='outer')\n",
    "    del train_df_country\n",
    "    return train_df"
   ]
  },
  {
   "cell_type": "code",
   "execution_count": 4,
   "id": "7cf3b7e1",
   "metadata": {
    "execution": {
     "iopub.execute_input": "2022-06-10T05:55:42.683930Z",
     "iopub.status.busy": "2022-06-10T05:55:42.683464Z",
     "iopub.status.idle": "2022-06-10T05:55:42.693949Z",
     "shell.execute_reply": "2022-06-10T05:55:42.693280Z"
    },
    "papermill": {
     "duration": 0.020622,
     "end_time": "2022-06-10T05:55:42.695698",
     "exception": false,
     "start_time": "2022-06-10T05:55:42.675076",
     "status": "completed"
    },
    "tags": []
   },
   "outputs": [],
   "source": [
    "def add_features(df):\n",
    "    for col in tqdm(feat_columns):\n",
    "        if col in vec_columns:\n",
    "            tv_fit = tfidf_d[col]\n",
    "            indexs = [id2index_d[i] for i in df['id']]\n",
    "            match_indexs = [id2index_d[i] for i in df['match_id']]\n",
    "            df[f'{col}_sim'] = np.array(tv_fit[indexs].multiply(tv_fit[match_indexs]).sum(axis=1)).ravel()\n",
    "        col_values = data.loc[df['id']][col].values.astype(str)\n",
    "        match_values = data.loc[df['match_id']][col].values.astype(str)\n",
    "        geshs = []\n",
    "        levens = []\n",
    "        jaros = []\n",
    "        \n",
    "        for s, match_s in zip(col_values, match_values):\n",
    "            if s != 'nan' and match_s != 'nan':\n",
    "                geshs.append(difflib.SequenceMatcher(None, s, match_s).ratio())\n",
    "                levens.append(Levenshtein.distance(s, match_s))\n",
    "                jaros.append(Levenshtein.jaro_winkler(s, match_s))\n",
    "                \n",
    "            else:\n",
    "                geshs.append(np.nan)\n",
    "                levens.append(np.nan)\n",
    "                jaros.append(np.nan)\n",
    "                \n",
    "        df[f'{col}_gesh'] = geshs\n",
    "        df[f'{col}_leven'] = levens\n",
    "        df[f'{col}_jaro'] = jaros\n",
    "        \n",
    "        if col not in ['phone', 'zip']:\n",
    "            df[f'{col}_len'] = list(map(len, col_values))\n",
    "            df[f'match_{col}_len'] = list(map(len, match_values))\n",
    "            df[f'{col}_len_diff'] = np.abs(df[f'{col}_len'] - df[f'match_{col}_len'])\n",
    "            df[f'{col}_nleven'] = df[f'{col}_leven'] / df[[f'{col}_len', f'match_{col}_len']].max(axis=1)\n",
    "            \n",
    "            df = df.drop(f'{col}_len', axis=1)\n",
    "            df = df.drop(f'match_{col}_len', axis=1)\n",
    "            gc.collect()\n",
    "    return df"
   ]
  },
  {
   "cell_type": "code",
   "execution_count": 7,
   "id": "844bfeb9",
   "metadata": {
    "_kg_hide-input": true,
    "execution": {
     "iopub.execute_input": "2022-06-10T05:55:42.758518Z",
     "iopub.status.busy": "2022-06-10T05:55:42.758229Z",
     "iopub.status.idle": "2022-06-10T06:02:15.604139Z",
     "shell.execute_reply": "2022-06-10T06:02:15.603037Z"
    },
    "papermill": {
     "duration": 392.932504,
     "end_time": "2022-06-10T06:02:15.682006",
     "exception": false,
     "start_time": "2022-06-10T05:55:42.749502",
     "status": "completed"
    },
    "tags": []
   },
   "outputs": [
    {
     "name": "stdout",
     "output_type": "stream",
     "text": [
      "group\n"
     ]
    },
    {
     "name": "stderr",
     "output_type": "stream",
     "text": [
      "100%|██████████| 221/221 [04:24<00:00,  1.20s/it]\n"
     ]
    },
    {
     "name": "stdout",
     "output_type": "stream",
     "text": [
      "knn\n"
     ]
    },
    {
     "data": {
      "text/plain": [
       "<function gc.collect(generation=2)>"
      ]
     },
     "execution_count": 7,
     "metadata": {},
     "output_type": "execute_result"
    }
   ],
   "source": [
    "data = pd.read_csv(DATA/'train.csv')\n",
    "\n",
    "id2index_d = dict(zip(data['id'].values, data.index))\n",
    "tfidf_d = {}\n",
    "for col in vec_columns:\n",
    "    tfidf = TfidfVectorizer()\n",
    "    tv_fit = tfidf.fit_transform(data[col].fillna('nan'))\n",
    "    tfidf_d[col] = tv_fit\n",
    "\n",
    "train_data = recall_knn(data, n_neighbors)\n",
    "data = data.set_index('id')\n",
    "ids = train_data['id'].tolist()\n",
    "match_ids = train_data['match_id'].tolist()\n",
    "poi = data.loc[ids][target].values\n",
    "match_poi = data.loc[match_ids][target].values\n",
    "train_data['label'] = np.array(poi==match_poi, dtype=np.int8)\n",
    "del poi, match_poi, ids, match_ids\n",
    "gc.collect\n"
   ]
  },
  {
   "cell_type": "code",
   "execution_count": 8,
   "id": "7805bf4e",
   "metadata": {
    "execution": {
     "iopub.execute_input": "2022-06-10T06:02:15.822879Z",
     "iopub.status.busy": "2022-06-10T06:02:15.822582Z",
     "iopub.status.idle": "2022-06-10T07:00:56.973070Z",
     "shell.execute_reply": "2022-06-10T07:00:56.972123Z"
    },
    "papermill": {
     "duration": 3521.318514,
     "end_time": "2022-06-10T07:00:57.070147",
     "exception": false,
     "start_time": "2022-06-10T06:02:15.751633",
     "status": "completed"
    },
    "tags": []
   },
   "outputs": [
    {
     "name": "stdout",
     "output_type": "stream",
     "text": [
      "curent split 1\n"
     ]
    },
    {
     "name": "stderr",
     "output_type": "stream",
     "text": [
      "100%|██████████| 9/9 [07:06<00:00, 47.44s/it]\n"
     ]
    },
    {
     "name": "stdout",
     "output_type": "stream",
     "text": [
      "curent split 2\n"
     ]
    },
    {
     "name": "stderr",
     "output_type": "stream",
     "text": [
      "100%|██████████| 9/9 [07:08<00:00, 47.60s/it]\n"
     ]
    },
    {
     "name": "stdout",
     "output_type": "stream",
     "text": [
      "curent split 3\n"
     ]
    },
    {
     "name": "stderr",
     "output_type": "stream",
     "text": [
      "100%|██████████| 9/9 [07:15<00:00, 48.35s/it]\n"
     ]
    },
    {
     "name": "stdout",
     "output_type": "stream",
     "text": [
      "curent split 4\n"
     ]
    },
    {
     "name": "stderr",
     "output_type": "stream",
     "text": [
      "100%|██████████| 9/9 [07:18<00:00, 48.74s/it]\n"
     ]
    },
    {
     "name": "stdout",
     "output_type": "stream",
     "text": [
      "curent split 5\n"
     ]
    },
    {
     "name": "stderr",
     "output_type": "stream",
     "text": [
      "100%|██████████| 9/9 [07:25<00:00, 49.45s/it]\n"
     ]
    },
    {
     "name": "stdout",
     "output_type": "stream",
     "text": [
      "curent split 6\n"
     ]
    },
    {
     "name": "stderr",
     "output_type": "stream",
     "text": [
      "100%|██████████| 9/9 [07:23<00:00, 49.27s/it]\n"
     ]
    },
    {
     "name": "stdout",
     "output_type": "stream",
     "text": [
      "curent split 7\n"
     ]
    },
    {
     "name": "stderr",
     "output_type": "stream",
     "text": [
      "100%|██████████| 9/9 [07:18<00:00, 48.73s/it]\n"
     ]
    },
    {
     "name": "stdout",
     "output_type": "stream",
     "text": [
      "13533862\n"
     ]
    }
   ],
   "source": [
    "count = 0\n",
    "start_row = 0\n",
    "#data = data.set_index('id')\n",
    "unique_id = train_data['id'].unique().tolist()\n",
    "num_split_id = len(unique_id) // num_split\n",
    "for k in range(1, num_split+1):\n",
    "    print('curent split %s' %k)\n",
    "    end_row = start_row + num_split_id\n",
    "    if k < num_split:\n",
    "        cur_id = unique_id[start_row: end_row]\n",
    "        cur_data = train_data[train_data['id'].isin(cur_id)]\n",
    "    else:\n",
    "        cur_id = unique_id[start_row:]\n",
    "        cur_data = train_data[train_data['id'].isin(cur_id)]\n",
    "    cur_data = add_features(cur_data)\n",
    "    cur_data['kdist_diff'] = (cur_data['kdist'] - cur_data['kdist_country']) / cur_data['kdist_country']\n",
    "    cur_data['kneighbors_mean'] = cur_data[['kneighbors', 'kneighbors_country']].mean(axis=1)\n",
    "    cur_data.to_csv(WORK/f'train_data{k}.csv', index=False)\n",
    "    start_row = end_row\n",
    "    count += len(cur_data)\n",
    "    del cur_data\n",
    "    gc.collect()\n",
    "print(count)"
   ]
  }
 ],
 "metadata": {
  "kernelspec": {
   "display_name": "Python 3 (ipykernel)",
   "language": "python",
   "name": "python3"
  },
  "language_info": {
   "codemirror_mode": {
    "name": "ipython",
    "version": 3
   },
   "file_extension": ".py",
   "mimetype": "text/x-python",
   "name": "python",
   "nbconvert_exporter": "python",
   "pygments_lexer": "ipython3",
   "version": "3.9.7"
  },
  "papermill": {
   "default_parameters": {},
   "duration": 3925.939187,
   "end_time": "2022-06-10T07:00:58.799033",
   "environment_variables": {},
   "exception": null,
   "input_path": "__notebook__.ipynb",
   "output_path": "__notebook__.ipynb",
   "parameters": {},
   "start_time": "2022-06-10T05:55:32.859846",
   "version": "2.3.4"
  }
 },
 "nbformat": 4,
 "nbformat_minor": 5
}
